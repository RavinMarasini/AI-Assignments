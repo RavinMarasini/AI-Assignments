{
 "cells": [
  {
   "cell_type": "code",
   "execution_count": 4,
   "id": "cb98e73d",
   "metadata": {},
   "outputs": [
    {
     "name": "stdout",
     "output_type": "stream",
     "text": [
      "Enter the initial range: 10\n",
      "Enter the final range: 20\n",
      "11\n",
      "13\n",
      "17\n",
      "19\n"
     ]
    }
   ],
   "source": [
    "def isPrime(n):\n",
    "    c = 0\n",
    "    for i in range(1, n+1):\n",
    "        if n % i == 0:\n",
    "            c = c + 1\n",
    "    return c == 2\n",
    "\n",
    "a = int(input(\"Enter the initial range: \"))\n",
    "b = int(input(\"Enter the final range: \"))\n",
    "\n",
    "for i in range(a, b+1):\n",
    "    if isPrime(i):\n",
    "        print(i)\n"
   ]
  },
  {
   "cell_type": "code",
   "execution_count": null,
   "id": "f4dfb146",
   "metadata": {},
   "outputs": [],
   "source": []
  }
 ],
 "metadata": {
  "kernelspec": {
   "display_name": "Python 3 (ipykernel)",
   "language": "python",
   "name": "python3"
  },
  "language_info": {
   "codemirror_mode": {
    "name": "ipython",
    "version": 3
   },
   "file_extension": ".py",
   "mimetype": "text/x-python",
   "name": "python",
   "nbconvert_exporter": "python",
   "pygments_lexer": "ipython3",
   "version": "3.11.5"
  }
 },
 "nbformat": 4,
 "nbformat_minor": 5
}
