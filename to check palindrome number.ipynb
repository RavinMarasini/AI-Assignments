{
 "cells": [
  {
   "cell_type": "code",
   "execution_count": 2,
   "id": "3720a592",
   "metadata": {},
   "outputs": [
    {
     "name": "stdout",
     "output_type": "stream",
     "text": [
      "Enter a number:1221\n",
      "The number is a palindrome!\n"
     ]
    }
   ],
   "source": [
    "n = int(input(\"Enter a number:\"))\n",
    "temp = n\n",
    "rev = 0\n",
    "\n",
    "while n > 0:\n",
    "    dig = n % 10\n",
    "    rev = rev * 10 + dig\n",
    "    n = n // 10\n",
    "\n",
    "if temp == rev:\n",
    "    print(\"The number is a palindrome!\")\n",
    "else:\n",
    "    print(\"The number isn't a palindrome!\")\n"
   ]
  },
  {
   "cell_type": "code",
   "execution_count": null,
   "id": "55bb18e6",
   "metadata": {},
   "outputs": [],
   "source": []
  }
 ],
 "metadata": {
  "kernelspec": {
   "display_name": "Python 3 (ipykernel)",
   "language": "python",
   "name": "python3"
  },
  "language_info": {
   "codemirror_mode": {
    "name": "ipython",
    "version": 3
   },
   "file_extension": ".py",
   "mimetype": "text/x-python",
   "name": "python",
   "nbconvert_exporter": "python",
   "pygments_lexer": "ipython3",
   "version": "3.11.5"
  }
 },
 "nbformat": 4,
 "nbformat_minor": 5
}
