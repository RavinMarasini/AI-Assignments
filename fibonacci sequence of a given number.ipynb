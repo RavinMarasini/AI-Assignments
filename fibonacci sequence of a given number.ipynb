{
 "cells": [
  {
   "cell_type": "code",
   "execution_count": 1,
   "id": "9219247b",
   "metadata": {},
   "outputs": [
    {
     "name": "stdout",
     "output_type": "stream",
     "text": [
      "Enter number : 8\n",
      "0 1 1 2 3 5 8 13\n"
     ]
    }
   ],
   "source": [
    "def fib(n): \n",
    "    f = [0, 1] \n",
    "  \n",
    "    for i in range(2, n): \n",
    "        f.append(f[i -1] + f[i-2]) \n",
    "    return f \n",
    "     \n",
    "num = int(input(\"Enter number : \")) \n",
    "print(*fib(num)) \n"
   ]
  },
  {
   "cell_type": "code",
   "execution_count": null,
   "id": "ae06e09f",
   "metadata": {},
   "outputs": [],
   "source": []
  }
 ],
 "metadata": {
  "kernelspec": {
   "display_name": "Python 3 (ipykernel)",
   "language": "python",
   "name": "python3"
  },
  "language_info": {
   "codemirror_mode": {
    "name": "ipython",
    "version": 3
   },
   "file_extension": ".py",
   "mimetype": "text/x-python",
   "name": "python",
   "nbconvert_exporter": "python",
   "pygments_lexer": "ipython3",
   "version": "3.11.5"
  }
 },
 "nbformat": 4,
 "nbformat_minor": 5
}
