{
 "cells": [
  {
   "cell_type": "code",
   "execution_count": 1,
   "id": "08f3afb9",
   "metadata": {},
   "outputs": [
    {
     "name": "stdout",
     "output_type": "stream",
     "text": [
      "Enter Guess: 2\n",
      "Guess higher!\n",
      "Enter Guess: 40\n",
      "Guess lower!\n",
      "Enter Guess: 35\n",
      "Guess lower!\n",
      "Enter Guess: 32\n",
      "Guess lower!\n",
      "Enter Guess: 30\n",
      "Guess lower!\n",
      "Enter Guess: 29\n",
      "Guess lower!\n",
      "Enter Guess: 20\n",
      "Guess lower!\n",
      "Enter Guess: 10\n",
      "Guess higher!\n",
      "Enter Guess: 15\n",
      "Guess higher!\n",
      "Enter Guess: 19\n",
      "Guess lower!\n",
      "Enter Guess: 18\n",
      "You won!\n"
     ]
    }
   ],
   "source": [
    "################################################################################\n",
    "# A simple number guessing game in Python.  The user attempts to \n",
    "# guess a number between 1-100, if they guess too low they are told to guess \n",
    "# higher, if they guess too high they are told to guess lower, and the game \n",
    "# continues until they guess the correct number.\n",
    "################################################################################\n",
    "\n",
    "# Here random module to helps to generate the random number\n",
    "import random\n",
    "\n",
    "# randint() will generate a random integer between 1-100, assign it to 'number'\n",
    "number = random.randint(1,100)\n",
    "\n",
    "# guess will store the guesses made byt he user\n",
    "guess = 0\n",
    "\n",
    "# continue the game until the user guesses correctly\n",
    "while guess != number:\n",
    "  \n",
    "  # prompts  user to enter a guess, the input() function will return the \n",
    "  # string the user enters, convert it to an int with int() and assign the \n",
    "  # guess to 'guess'\n",
    "  guess = int(input(\"Enter Guess: \"))\n",
    "  \n",
    "  # if the user guesses too lower, tell them to guess higher, if they guess \n",
    "  # too high, tell them to guess lower, and if they get it correct tell \n",
    "  # them they've won\n",
    "  if (guess < number):\n",
    "    print(\"Guess higher!\")\n",
    "  elif (guess > number):\n",
    "    print(\"Guess lower!\")\n",
    "  else:\n",
    "    print(\"You won!\")"
   ]
  },
  {
   "cell_type": "code",
   "execution_count": null,
   "id": "7bb3de3a",
   "metadata": {},
   "outputs": [],
   "source": []
  }
 ],
 "metadata": {
  "kernelspec": {
   "display_name": "Python 3 (ipykernel)",
   "language": "python",
   "name": "python3"
  },
  "language_info": {
   "codemirror_mode": {
    "name": "ipython",
    "version": 3
   },
   "file_extension": ".py",
   "mimetype": "text/x-python",
   "name": "python",
   "nbconvert_exporter": "python",
   "pygments_lexer": "ipython3",
   "version": "3.11.5"
  }
 },
 "nbformat": 4,
 "nbformat_minor": 5
}
